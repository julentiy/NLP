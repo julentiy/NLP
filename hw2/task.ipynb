{
 "cells": [
  {
   "cell_type": "code",
   "execution_count": 1,
   "metadata": {
    "scrolled": true
   },
   "outputs": [],
   "source": [
    "import pandas as pd"
   ]
  },
  {
   "cell_type": "code",
   "execution_count": 2,
   "metadata": {},
   "outputs": [],
   "source": [
    "df=pd.read_csv('C:/Users/yulya/NLP hw/11.11/reviews.tsv', sep='\\t')"
   ]
  },
  {
   "cell_type": "code",
   "execution_count": 3,
   "metadata": {
    "scrolled": false
   },
   "outputs": [
    {
     "data": {
      "text/html": [
       "<div>\n",
       "<style scoped>\n",
       "    .dataframe tbody tr th:only-of-type {\n",
       "        vertical-align: middle;\n",
       "    }\n",
       "\n",
       "    .dataframe tbody tr th {\n",
       "        vertical-align: top;\n",
       "    }\n",
       "\n",
       "    .dataframe thead th {\n",
       "        text-align: right;\n",
       "    }\n",
       "</style>\n",
       "<table border=\"1\" class=\"dataframe\">\n",
       "  <thead>\n",
       "    <tr style=\"text-align: right;\">\n",
       "      <th></th>\n",
       "      <th>permalink</th>\n",
       "      <th>rating</th>\n",
       "      <th>review_text</th>\n",
       "    </tr>\n",
       "  </thead>\n",
       "  <tbody>\n",
       "    <tr>\n",
       "      <th>0</th>\n",
       "      <td>1000095379</td>\n",
       "      <td>4.0</td>\n",
       "      <td>Вкусная питца, естт летнее кафе, доставка, при...</td>\n",
       "    </tr>\n",
       "    <tr>\n",
       "      <th>1</th>\n",
       "      <td>1000095379</td>\n",
       "      <td>1.0</td>\n",
       "      <td>Думал можно днём с детьми посидеть на открытой...</td>\n",
       "    </tr>\n",
       "    <tr>\n",
       "      <th>2</th>\n",
       "      <td>1000095379</td>\n",
       "      <td>4.0</td>\n",
       "      <td>Есть веранда, вкусная пицца, делают по половин...</td>\n",
       "    </tr>\n",
       "    <tr>\n",
       "      <th>3</th>\n",
       "      <td>1000095379</td>\n",
       "      <td>1.0</td>\n",
       "      <td>Уже второй раз забивают на заказ</td>\n",
       "    </tr>\n",
       "    <tr>\n",
       "      <th>4</th>\n",
       "      <td>1000095379</td>\n",
       "      <td>5.0</td>\n",
       "      <td>Любимая пиццерия! 👍</td>\n",
       "    </tr>\n",
       "  </tbody>\n",
       "</table>\n",
       "</div>"
      ],
      "text/plain": [
       "    permalink  rating                                        review_text\n",
       "0  1000095379     4.0  Вкусная питца, естт летнее кафе, доставка, при...\n",
       "1  1000095379     1.0  Думал можно днём с детьми посидеть на открытой...\n",
       "2  1000095379     4.0  Есть веранда, вкусная пицца, делают по половин...\n",
       "3  1000095379     1.0                   Уже второй раз забивают на заказ\n",
       "4  1000095379     5.0                                Любимая пиццерия! 👍"
      ]
     },
     "execution_count": 3,
     "metadata": {},
     "output_type": "execute_result"
    }
   ],
   "source": [
    "df.head()"
   ]
  },
  {
   "cell_type": "code",
   "execution_count": null,
   "metadata": {},
   "outputs": [],
   "source": []
  },
  {
   "cell_type": "markdown",
   "metadata": {},
   "source": [
    "дальше попытки кода не по домашке. но хотим попробовать по домашке."
   ]
  },
  {
   "cell_type": "code",
   "execution_count": 4,
   "metadata": {},
   "outputs": [],
   "source": [
    "import numpy as np \n",
    "import pandas as pd \n",
    "import re\n",
    "import nltk \n",
    "import matplotlib.pyplot as plt\n",
    "%matplotlib inline"
   ]
  },
  {
   "cell_type": "code",
   "execution_count": 11,
   "metadata": {},
   "outputs": [],
   "source": [
    "#features = df.iloc[:, 10].values\n",
    "labels = df.iloc[:, 1].values"
   ]
  },
  {
   "cell_type": "code",
   "execution_count": 12,
   "metadata": {},
   "outputs": [
    {
     "name": "stdout",
     "output_type": "stream",
     "text": [
      "[4. 1. 4. ... 5. 1. 1.]\n"
     ]
    }
   ],
   "source": [
    "print(labels)"
   ]
  },
  {
   "cell_type": "code",
   "execution_count": 13,
   "metadata": {},
   "outputs": [],
   "source": [
    "labels = df['rating']"
   ]
  },
  {
   "cell_type": "code",
   "execution_count": 14,
   "metadata": {},
   "outputs": [
    {
     "data": {
      "text/plain": [
       "0         4.0\n",
       "1         1.0\n",
       "2         4.0\n",
       "3         1.0\n",
       "4         5.0\n",
       "         ... \n",
       "328640    5.0\n",
       "328641    5.0\n",
       "328642    5.0\n",
       "328643    1.0\n",
       "328644    1.0\n",
       "Name: rating, Length: 328645, dtype: float64"
      ]
     },
     "execution_count": 14,
     "metadata": {},
     "output_type": "execute_result"
    }
   ],
   "source": [
    "labels"
   ]
  },
  {
   "cell_type": "code",
   "execution_count": 21,
   "metadata": {},
   "outputs": [],
   "source": [
    "features = df.drop(\"rating\", axis=1)\n",
    "# df_drop_column.drop(\"type\", axis=1)"
   ]
  },
  {
   "cell_type": "code",
   "execution_count": 22,
   "metadata": {},
   "outputs": [
    {
     "data": {
      "text/html": [
       "<div>\n",
       "<style scoped>\n",
       "    .dataframe tbody tr th:only-of-type {\n",
       "        vertical-align: middle;\n",
       "    }\n",
       "\n",
       "    .dataframe tbody tr th {\n",
       "        vertical-align: top;\n",
       "    }\n",
       "\n",
       "    .dataframe thead th {\n",
       "        text-align: right;\n",
       "    }\n",
       "</style>\n",
       "<table border=\"1\" class=\"dataframe\">\n",
       "  <thead>\n",
       "    <tr style=\"text-align: right;\">\n",
       "      <th></th>\n",
       "      <th>permalink</th>\n",
       "      <th>review_text</th>\n",
       "    </tr>\n",
       "  </thead>\n",
       "  <tbody>\n",
       "    <tr>\n",
       "      <th>0</th>\n",
       "      <td>1000095379</td>\n",
       "      <td>Вкусная питца, естт летнее кафе, доставка, при...</td>\n",
       "    </tr>\n",
       "    <tr>\n",
       "      <th>1</th>\n",
       "      <td>1000095379</td>\n",
       "      <td>Думал можно днём с детьми посидеть на открытой...</td>\n",
       "    </tr>\n",
       "    <tr>\n",
       "      <th>2</th>\n",
       "      <td>1000095379</td>\n",
       "      <td>Есть веранда, вкусная пицца, делают по половин...</td>\n",
       "    </tr>\n",
       "    <tr>\n",
       "      <th>3</th>\n",
       "      <td>1000095379</td>\n",
       "      <td>Уже второй раз забивают на заказ</td>\n",
       "    </tr>\n",
       "    <tr>\n",
       "      <th>4</th>\n",
       "      <td>1000095379</td>\n",
       "      <td>Любимая пиццерия! 👍</td>\n",
       "    </tr>\n",
       "    <tr>\n",
       "      <th>...</th>\n",
       "      <td>...</td>\n",
       "      <td>...</td>\n",
       "    </tr>\n",
       "    <tr>\n",
       "      <th>328640</th>\n",
       "      <td>245591834558</td>\n",
       "      <td>Очень вкусная пицца!!!!</td>\n",
       "    </tr>\n",
       "    <tr>\n",
       "      <th>328641</th>\n",
       "      <td>245591834558</td>\n",
       "      <td>Лучший борщ на Роза Хутор!!! Большая порция, т...</td>\n",
       "    </tr>\n",
       "    <tr>\n",
       "      <th>328642</th>\n",
       "      <td>245591834558</td>\n",
       "      <td>Все понравилось! Пицца норм</td>\n",
       "    </tr>\n",
       "    <tr>\n",
       "      <th>328643</th>\n",
       "      <td>245591834558</td>\n",
       "      <td>обслуживание нормальное, соотношение цена/каче...</td>\n",
       "    </tr>\n",
       "    <tr>\n",
       "      <th>328644</th>\n",
       "      <td>245591834558</td>\n",
       "      <td>Ооочень долгое обслуживание.  Необоснованно вы...</td>\n",
       "    </tr>\n",
       "  </tbody>\n",
       "</table>\n",
       "<p>328645 rows × 2 columns</p>\n",
       "</div>"
      ],
      "text/plain": [
       "           permalink                                        review_text\n",
       "0         1000095379  Вкусная питца, естт летнее кафе, доставка, при...\n",
       "1         1000095379  Думал можно днём с детьми посидеть на открытой...\n",
       "2         1000095379  Есть веранда, вкусная пицца, делают по половин...\n",
       "3         1000095379                   Уже второй раз забивают на заказ\n",
       "4         1000095379                                Любимая пиццерия! 👍\n",
       "...              ...                                                ...\n",
       "328640  245591834558                            Очень вкусная пицца!!!!\n",
       "328641  245591834558  Лучший борщ на Роза Хутор!!! Большая порция, т...\n",
       "328642  245591834558                        Все понравилось! Пицца норм\n",
       "328643  245591834558  обслуживание нормальное, соотношение цена/каче...\n",
       "328644  245591834558  Ооочень долгое обслуживание.  Необоснованно вы...\n",
       "\n",
       "[328645 rows x 2 columns]"
      ]
     },
     "execution_count": 22,
     "metadata": {},
     "output_type": "execute_result"
    }
   ],
   "source": [
    "features"
   ]
  },
  {
   "cell_type": "code",
   "execution_count": null,
   "metadata": {},
   "outputs": [],
   "source": []
  }
 ],
 "metadata": {
  "kernelspec": {
   "display_name": "Python 3",
   "language": "python",
   "name": "python3"
  },
  "language_info": {
   "codemirror_mode": {
    "name": "ipython",
    "version": 3
   },
   "file_extension": ".py",
   "mimetype": "text/x-python",
   "name": "python",
   "nbconvert_exporter": "python",
   "pygments_lexer": "ipython3",
   "version": "3.7.6"
  }
 },
 "nbformat": 4,
 "nbformat_minor": 4
}
