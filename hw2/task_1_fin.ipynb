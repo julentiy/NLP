{
 "cells": [
  {
   "cell_type": "code",
   "execution_count": 1,
   "metadata": {
    "id": "52o2tnE_PDxR",
    "scrolled": true
   },
   "outputs": [],
   "source": [
    "import pandas as pd"
   ]
  },
  {
   "cell_type": "code",
   "execution_count": 2,
   "metadata": {
    "id": "7XdVp9gsPDxY"
   },
   "outputs": [],
   "source": [
    "df=pd.read_csv('reviews.tsv', sep='\\t')"
   ]
  },
  {
   "cell_type": "code",
   "execution_count": 3,
   "metadata": {
    "colab": {
     "base_uri": "https://localhost:8080/",
     "height": 203
    },
    "id": "7xcRAMTUPDxZ",
    "outputId": "c43dcdb0-e431-4097-c544-4ce6169d106b",
    "scrolled": false
   },
   "outputs": [
    {
     "data": {
      "text/html": [
       "<div>\n",
       "<style scoped>\n",
       "    .dataframe tbody tr th:only-of-type {\n",
       "        vertical-align: middle;\n",
       "    }\n",
       "\n",
       "    .dataframe tbody tr th {\n",
       "        vertical-align: top;\n",
       "    }\n",
       "\n",
       "    .dataframe thead th {\n",
       "        text-align: right;\n",
       "    }\n",
       "</style>\n",
       "<table border=\"1\" class=\"dataframe\">\n",
       "  <thead>\n",
       "    <tr style=\"text-align: right;\">\n",
       "      <th></th>\n",
       "      <th>permalink</th>\n",
       "      <th>rating</th>\n",
       "      <th>review_text</th>\n",
       "    </tr>\n",
       "  </thead>\n",
       "  <tbody>\n",
       "    <tr>\n",
       "      <th>0</th>\n",
       "      <td>1000095379</td>\n",
       "      <td>4.0</td>\n",
       "      <td>Вкусная питца, естт летнее кафе, доставка, при...</td>\n",
       "    </tr>\n",
       "    <tr>\n",
       "      <th>1</th>\n",
       "      <td>1000095379</td>\n",
       "      <td>1.0</td>\n",
       "      <td>Думал можно днём с детьми посидеть на открытой...</td>\n",
       "    </tr>\n",
       "    <tr>\n",
       "      <th>2</th>\n",
       "      <td>1000095379</td>\n",
       "      <td>4.0</td>\n",
       "      <td>Есть веранда, вкусная пицца, делают по половин...</td>\n",
       "    </tr>\n",
       "    <tr>\n",
       "      <th>3</th>\n",
       "      <td>1000095379</td>\n",
       "      <td>1.0</td>\n",
       "      <td>Уже второй раз забивают на заказ</td>\n",
       "    </tr>\n",
       "    <tr>\n",
       "      <th>4</th>\n",
       "      <td>1000095379</td>\n",
       "      <td>5.0</td>\n",
       "      <td>Любимая пиццерия! 👍</td>\n",
       "    </tr>\n",
       "  </tbody>\n",
       "</table>\n",
       "</div>"
      ],
      "text/plain": [
       "    permalink  rating                                        review_text\n",
       "0  1000095379     4.0  Вкусная питца, естт летнее кафе, доставка, при...\n",
       "1  1000095379     1.0  Думал можно днём с детьми посидеть на открытой...\n",
       "2  1000095379     4.0  Есть веранда, вкусная пицца, делают по половин...\n",
       "3  1000095379     1.0                   Уже второй раз забивают на заказ\n",
       "4  1000095379     5.0                                Любимая пиццерия! 👍"
      ]
     },
     "execution_count": 3,
     "metadata": {},
     "output_type": "execute_result"
    }
   ],
   "source": [
    "df.head()"
   ]
  },
  {
   "cell_type": "code",
   "execution_count": 4,
   "metadata": {
    "colab": {
     "base_uri": "https://localhost:8080/"
    },
    "id": "LkVrR7IFPDxb",
    "outputId": "e56365e4-3c7e-4caf-cde9-8e4c7eadc536"
   },
   "outputs": [
    {
     "data": {
      "text/plain": [
       "(328645, 3)"
      ]
     },
     "execution_count": 4,
     "metadata": {},
     "output_type": "execute_result"
    }
   ],
   "source": [
    "df.shape"
   ]
  },
  {
   "cell_type": "code",
   "execution_count": 5,
   "metadata": {
    "id": "U45aJ3RFRdzA"
   },
   "outputs": [],
   "source": [
    "import nltk\n",
    "from nltk.corpus import stopwords\n",
    "from nltk.stem import PorterStemmer, WordNetLemmatizer\n",
    "import string\n",
    "import re\n",
    "from nltk import word_tokenize\n",
    "import matplotlib.pyplot as plt\n",
    "import seaborn as sns"
   ]
  },
  {
   "cell_type": "code",
   "execution_count": 8,
   "metadata": {
    "id": "cK6B2Qc4hX2o"
   },
   "outputs": [],
   "source": [
    "# remove the rows where rating is zero\n",
    "df = df.drop(df[(df[\"rating\"] == 0.0)].index)"
   ]
  },
  {
   "cell_type": "code",
   "execution_count": 9,
   "metadata": {},
   "outputs": [
    {
     "data": {
      "text/plain": [
       "(328528, 3)"
      ]
     },
     "execution_count": 9,
     "metadata": {},
     "output_type": "execute_result"
    }
   ],
   "source": [
    "df.shape"
   ]
  },
  {
   "cell_type": "code",
   "execution_count": 10,
   "metadata": {
    "id": "OjfWudb0R95x"
   },
   "outputs": [],
   "source": [
    "# remove all the null values\n",
    "df.dropna(inplace=True)"
   ]
  },
  {
   "cell_type": "code",
   "execution_count": 11,
   "metadata": {},
   "outputs": [
    {
     "data": {
      "text/plain": [
       "(328368, 3)"
      ]
     },
     "execution_count": 11,
     "metadata": {},
     "output_type": "execute_result"
    }
   ],
   "source": [
    "df.shape"
   ]
  },
  {
   "cell_type": "code",
   "execution_count": 12,
   "metadata": {
    "colab": {
     "base_uri": "https://localhost:8080/",
     "height": 350
    },
    "id": "gMaZV3vPhPlN",
    "outputId": "2b1fe4aa-39ca-4ffc-8bf2-93ac522636f2"
   },
   "outputs": [
    {
     "data": {
      "text/plain": [
       "<matplotlib.axes._subplots.AxesSubplot at 0x1fc0ea57388>"
      ]
     },
     "execution_count": 12,
     "metadata": {},
     "output_type": "execute_result"
    },
    {
     "data": {
      "image/png": "[encoded data removed]",
      "text/plain": [
       "<Figure size 432x288 with 1 Axes>"
      ]
     },
     "metadata": {
      "needs_background": "light"
     },
     "output_type": "display_data"
    }
   ],
   "source": [
    "sns.countplot(df['rating'])"
   ]
  },
  {
   "cell_type": "code",
   "execution_count": 13,
   "metadata": {
    "colab": {
     "base_uri": "https://localhost:8080/"
    },
    "id": "Et8P8bteSKBg",
    "outputId": "5f9e313b-1229-4375-b219-fe75f37f52e5"
   },
   "outputs": [
    {
     "name": "stderr",
     "output_type": "stream",
     "text": [
      "[nltk_data] Downloading package wordnet to\n",
      "[nltk_data]     C:\\Users\\yulya\\AppData\\Roaming\\nltk_data...\n",
      "[nltk_data]   Package wordnet is already up-to-date!\n",
      "[nltk_data] Downloading package stopwords to\n",
      "[nltk_data]     C:\\Users\\yulya\\AppData\\Roaming\\nltk_data...\n",
      "[nltk_data]   Package stopwords is already up-to-date!\n",
      "[nltk_data] Downloading package punkt to\n",
      "[nltk_data]     C:\\Users\\yulya\\AppData\\Roaming\\nltk_data...\n",
      "[nltk_data]   Package punkt is already up-to-date!\n",
      "[nltk_data] Downloading package words to\n",
      "[nltk_data]     C:\\Users\\yulya\\AppData\\Roaming\\nltk_data...\n",
      "[nltk_data]   Package words is already up-to-date!\n"
     ]
    },
    {
     "data": {
      "text/plain": [
       "True"
      ]
     },
     "execution_count": 13,
     "metadata": {},
     "output_type": "execute_result"
    }
   ],
   "source": [
    "nltk.download(\"wordnet\")\n",
    "nltk.download('stopwords')\n",
    "nltk.download('punkt')\n",
    "nltk.download('words')"
   ]
  },
  {
   "cell_type": "code",
   "execution_count": 14,
   "metadata": {
    "id": "ZT6ncYOrSJ-H"
   },
   "outputs": [],
   "source": [
    "lemmatizer = WordNetLemmatizer()"
   ]
  },
  {
   "cell_type": "code",
   "execution_count": 15,
   "metadata": {
    "colab": {
     "base_uri": "https://localhost:8080/"
    },
    "id": "bIp5SqEPSJ6C",
    "outputId": "d14bc90a-ea26-4bb6-addd-b6222a208de2"
   },
   "outputs": [
    {
     "name": "stdout",
     "output_type": "stream",
     "text": [
      "{'впрочем', 'сейчас', 'под', 'мы', 'потом', 'вас', 'если', 'быть', 'был', 'уже', 'есть', 'один', 'наконец', 'более', 'этот', 'за', 'со', 'чего', 'ну', 'до', 'чтобы', 'их', 'всю', 'над', 'опять', 'себе', 'от', 'ни', 'почти', 'ее', 'же', 'из', 'как', 'тогда', 'но', 'об', 'разве', 'вдруг', 'куда', 'или', 'была', 'только', 'иногда', 'три', 'им', 'где', 'много', 'вот', 'при', 'даже', 'больше', 'теперь', 'у', 'том', 'какой', 'будет', 'эти', 'бы', 'и', 'ведь', 'между', 'во', 'зачем', 'всего', 'можно', 'они', 'нибудь', 'тот', 'нас', 'хорошо', 'через', 'ты', 'сам', 'по', 'для', 'того', 'этом', 'мой', 'я', 'тут', 'тебя', 'хоть', 'а', 'его', 'на', 'там', 'не', 'вам', 'него', 'с', 'так', 'все', 'были', 'что', 'два', 'тоже', 'в', 'себя', 'ним', 'никогда', 'перед', 'мне', 'о', 'всегда', 'нет', 'еще', 'после', 'он', 'свою', 'чем', 'тем', 'уж', 'к', 'совсем', 'потому', 'она', 'меня', 'без', 'ж', 'про', 'этой', 'было', 'здесь', 'другой', 'вы', 'чуть', 'эту', 'лучше', 'всех', 'раз', 'ней', 'ли', 'то', 'моя', 'ей', 'может', 'надо', 'кто', 'такой', 'ничего', 'какая', 'нельзя', 'когда', 'конечно', 'да', 'нее', 'чтоб', 'будто', 'них', 'этого', 'ему'}\n"
     ]
    }
   ],
   "source": [
    "# Stop words\n",
    "stop_words = set(stopwords.words(\"russian\"))\n",
    "print(stop_words)"
   ]
  },
  {
   "cell_type": "code",
   "execution_count": 16,
   "metadata": {
    "id": "tVocZkpYSJ2q"
   },
   "outputs": [],
   "source": [
    "def clean_text(text):\n",
    "    '''\n",
    "    Function to clean the text data of the crawled web-pages \n",
    "    '''\n",
    "    # Removing extra spaces\n",
    "    text = re.sub(\" +\", \" \", text)\n",
    "    # Make the alphsbets lower\n",
    "    text = text.lower()\n",
    "    # Lemmatizating the words\n",
    "    text = [lemmatizer.lemmatize(token) for token in word_tokenize(text)]\n",
    "    # Removing the stop words.\n",
    "    text = [word for word in text if not word in stop_words]\n",
    "    # removing the all single letter words\n",
    "    text = [i for i in text if len(i)>1]\n",
    "    # join the text into the string\n",
    "    text = \" \".join(text)\n",
    "    return text"
   ]
  },
  {
   "cell_type": "code",
   "execution_count": 17,
   "metadata": {
    "colab": {
     "base_uri": "https://localhost:8080/",
     "height": 203
    },
    "id": "5szxTeLKSJz2",
    "outputId": "f2f482bf-b006-4592-f0df-da5332f2b2e9"
   },
   "outputs": [
    {
     "data": {
      "text/html": [
       "<div>\n",
       "<style scoped>\n",
       "    .dataframe tbody tr th:only-of-type {\n",
       "        vertical-align: middle;\n",
       "    }\n",
       "\n",
       "    .dataframe tbody tr th {\n",
       "        vertical-align: top;\n",
       "    }\n",
       "\n",
       "    .dataframe thead th {\n",
       "        text-align: right;\n",
       "    }\n",
       "</style>\n",
       "<table border=\"1\" class=\"dataframe\">\n",
       "  <thead>\n",
       "    <tr style=\"text-align: right;\">\n",
       "      <th></th>\n",
       "      <th>permalink</th>\n",
       "      <th>rating</th>\n",
       "      <th>review_text</th>\n",
       "      <th>clean_text</th>\n",
       "    </tr>\n",
       "  </thead>\n",
       "  <tbody>\n",
       "    <tr>\n",
       "      <th>0</th>\n",
       "      <td>1000095379</td>\n",
       "      <td>4.0</td>\n",
       "      <td>Вкусная питца, естт летнее кафе, доставка, при...</td>\n",
       "      <td>вкусная питца естт летнее кафе доставка приемл...</td>\n",
       "    </tr>\n",
       "    <tr>\n",
       "      <th>1</th>\n",
       "      <td>1000095379</td>\n",
       "      <td>1.0</td>\n",
       "      <td>Думал можно днём с детьми посидеть на открытой...</td>\n",
       "      <td>думал днём детьми посидеть открытой площадке т...</td>\n",
       "    </tr>\n",
       "    <tr>\n",
       "      <th>2</th>\n",
       "      <td>1000095379</td>\n",
       "      <td>4.0</td>\n",
       "      <td>Есть веранда, вкусная пицца, делают по половин...</td>\n",
       "      <td>веранда вкусная пицца делают половине паковка ...</td>\n",
       "    </tr>\n",
       "    <tr>\n",
       "      <th>3</th>\n",
       "      <td>1000095379</td>\n",
       "      <td>1.0</td>\n",
       "      <td>Уже второй раз забивают на заказ</td>\n",
       "      <td>второй забивают заказ</td>\n",
       "    </tr>\n",
       "    <tr>\n",
       "      <th>4</th>\n",
       "      <td>1000095379</td>\n",
       "      <td>5.0</td>\n",
       "      <td>Любимая пиццерия! 👍</td>\n",
       "      <td>любимая пиццерия</td>\n",
       "    </tr>\n",
       "  </tbody>\n",
       "</table>\n",
       "</div>"
      ],
      "text/plain": [
       "    permalink  rating                                        review_text  \\\n",
       "0  1000095379     4.0  Вкусная питца, естт летнее кафе, доставка, при...   \n",
       "1  1000095379     1.0  Думал можно днём с детьми посидеть на открытой...   \n",
       "2  1000095379     4.0  Есть веранда, вкусная пицца, делают по половин...   \n",
       "3  1000095379     1.0                   Уже второй раз забивают на заказ   \n",
       "4  1000095379     5.0                                Любимая пиццерия! 👍   \n",
       "\n",
       "                                          clean_text  \n",
       "0  вкусная питца естт летнее кафе доставка приемл...  \n",
       "1  думал днём детьми посидеть открытой площадке т...  \n",
       "2  веранда вкусная пицца делают половине паковка ...  \n",
       "3                              второй забивают заказ  \n",
       "4                                   любимая пиццерия  "
      ]
     },
     "execution_count": 17,
     "metadata": {},
     "output_type": "execute_result"
    }
   ],
   "source": [
    "df['clean_text'] = df['review_text'].apply(clean_text)\n",
    "df.head()"
   ]
  },
  {
   "cell_type": "code",
   "execution_count": 18,
   "metadata": {
    "colab": {
     "base_uri": "https://localhost:8080/"
    },
    "id": "u1I7NM9OSJwF",
    "outputId": "ad505fc6-5d49-4bf4-8f72-c0311d8352fe",
    "scrolled": true
   },
   "outputs": [
    {
     "data": {
      "text/plain": [
       "0         вкусная питца естт летнее кафе доставка приемл...\n",
       "1         думал днём детьми посидеть открытой площадке т...\n",
       "2         веранда вкусная пицца делают половине паковка ...\n",
       "3                                     второй забивают заказ\n",
       "4                                          любимая пиццерия\n",
       "                                ...                        \n",
       "328640                                  очень вкусная пицца\n",
       "328641    лучший борщ роза хутор большая порция теплый х...\n",
       "328642                               понравилось пицца норм\n",
       "328643    обслуживание нормальное соотношение цена/качес...\n",
       "328644    ооочень долгое обслуживание необоснованно высо...\n",
       "Name: clean_text, Length: 328368, dtype: object"
      ]
     },
     "execution_count": 18,
     "metadata": {},
     "output_type": "execute_result"
    }
   ],
   "source": [
    "df['clean_text']"
   ]
  },
  {
   "cell_type": "code",
   "execution_count": 35,
   "metadata": {
    "id": "3p7EpZptSJs3"
   },
   "outputs": [],
   "source": [
    "#vectorization is a further step\n",
    "from sklearn.feature_extraction.text import TfidfVectorizer, TfidfTransformer"
   ]
  },
  {
   "cell_type": "code",
   "execution_count": 20,
   "metadata": {
    "colab": {
     "base_uri": "https://localhost:8080/"
    },
    "id": "nlbHTpifSJpc",
    "outputId": "998d4a3a-bd69-4286-9079-af2e8a88c709"
   },
   "outputs": [
    {
     "data": {
      "text/plain": [
       "TfidfVectorizer(max_features=1000, ngram_range=(1, 2))"
      ]
     },
     "execution_count": 20,
     "metadata": {},
     "output_type": "execute_result"
    }
   ],
   "source": [
    "corpus = df['clean_text']\n",
    "tfidf = TfidfVectorizer(max_features=1000, ngram_range=(1,2))\n",
    "tfidf.fit(corpus)"
   ]
  },
  {
   "cell_type": "code",
   "execution_count": 21,
   "metadata": {
    "id": "sTgdSS48SJmN"
   },
   "outputs": [],
   "source": [
    "X = tfidf.transform(corpus)\n",
    "y = df['rating']"
   ]
  },
  {
   "cell_type": "code",
   "execution_count": 29,
   "metadata": {
    "id": "uuEZxnpGSJf5"
   },
   "outputs": [],
   "source": [
    "from sklearn.model_selection import train_test_split\n",
    "X_train, X_test, y_train, y_test = train_test_split(X,y,test_size=0.2,random_state=123)"
   ]
  },
  {
   "cell_type": "code",
   "execution_count": 30,
   "metadata": {
    "colab": {
     "base_uri": "https://localhost:8080/"
    },
    "id": "IZGeMOhxb4RG",
    "outputId": "9c47ab86-717f-4a23-abb5-0244ea5da72e"
   },
   "outputs": [
    {
     "data": {
      "text/plain": [
       "(65674, 1000)"
      ]
     },
     "execution_count": 30,
     "metadata": {},
     "output_type": "execute_result"
    }
   ],
   "source": [
    "X_test.shape"
   ]
  },
  {
   "cell_type": "code",
   "execution_count": 24,
   "metadata": {
    "id": "y2joiGtzb4O0"
   },
   "outputs": [],
   "source": [
    "from sklearn.tree import DecisionTreeClassifier\n",
    "from sklearn.metrics import accuracy_score\n",
    "from sklearn.metrics import classification_report, confusion_matrix\n",
    "from sklearn import tree, metrics\n",
    "from sklearn.multiclass import OneVsRestClassifier"
   ]
  },
  {
   "cell_type": "code",
   "execution_count": 31,
   "metadata": {
    "id": "ntWo-Vzyb4Ig"
   },
   "outputs": [],
   "source": [
    "#building model and fitting it to our train data\n",
    "DT = DecisionTreeClassifier(criterion='gini', min_samples_leaf=10, max_depth=20, random_state=123)\n",
    "clf_DT = OneVsRestClassifier(DT).fit(X_train, y_train)"
   ]
  },
  {
   "cell_type": "code",
   "execution_count": 32,
   "metadata": {
    "id": "Ui-vi2W9b4Ft"
   },
   "outputs": [],
   "source": [
    "#prediction\n",
    "y_pred = clf_DT.predict(X_test)"
   ]
  },
  {
   "cell_type": "code",
   "execution_count": 33,
   "metadata": {
    "colab": {
     "base_uri": "https://localhost:8080/"
    },
    "id": "GjhNK6cub4C6",
    "outputId": "0e459a3c-0c3e-44b4-88cc-057b80d1ccd6"
   },
   "outputs": [
    {
     "data": {
      "text/plain": [
       "array([[ 1233,   113,   110,    91,  2850],\n",
       "       [  345,    69,    85,    67,  1639],\n",
       "       [  277,    71,   161,   223,  3389],\n",
       "       [  136,    44,   135,   501,  6887],\n",
       "       [  181,    45,   105,   385, 46532]], dtype=int64)"
      ]
     },
     "execution_count": 33,
     "metadata": {},
     "output_type": "execute_result"
    }
   ],
   "source": [
    "confusion_matrix(y_test, y_pred)"
   ]
  },
  {
   "cell_type": "code",
   "execution_count": 34,
   "metadata": {
    "colab": {
     "base_uri": "https://localhost:8080/"
    },
    "id": "8snqh9zAb39T",
    "outputId": "f7b1d08e-8c6e-48b7-8ed6-7dd482767191"
   },
   "outputs": [
    {
     "data": {
      "text/plain": [
       "0.7384353016414411"
      ]
     },
     "execution_count": 34,
     "metadata": {},
     "output_type": "execute_result"
    }
   ],
   "source": [
    "accuracy_score(y_test, y_pred)"
   ]
  }
 ],
 "metadata": {
  "colab": {
   "collapsed_sections": [],
   "name": "task.ipynb",
   "provenance": []
  },
  "kernelspec": {
   "display_name": "Python 3",
   "language": "python",
   "name": "python3"
  },
  "language_info": {
   "codemirror_mode": {
    "name": "ipython",
    "version": 3
   },
   "file_extension": ".py",
   "mimetype": "text/x-python",
   "name": "python",
   "nbconvert_exporter": "python",
   "pygments_lexer": "ipython3",
   "version": "3.7.6"
  }
 },
 "nbformat": 4,
 "nbformat_minor": 1
}
